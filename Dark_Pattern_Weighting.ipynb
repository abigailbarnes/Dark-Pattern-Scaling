{
 "cells": [
  {
   "cell_type": "code",
   "execution_count": 5,
   "id": "0e0b0d28",
   "metadata": {},
   "outputs": [],
   "source": [
    "#function to take in a SINGLE dataframe and scale accordingly\n",
    "#1 - 5: friendspam, privacyzuckering, checkbox, confirmshame, urgency\n",
    "#explain ordering in the write up\n",
    "\n",
    "import pandas as pd\n",
    "\n",
    "\n",
    "def scale(darkpattern, count):\n",
    "    if darkpattern == 'friendspam':\n",
    "        return count * 5\n",
    "    elif darkpattern == 'privacyzuckering':\n",
    "        return count * 4\n",
    "    elif darkpattern == 'checkbox':\n",
    "        return count * 3\n",
    "    elif darkpattern == 'confirmshame':\n",
    "        return count * 2\n",
    "    else:\n",
    "        return count * 1\n",
    "\n",
    "\n",
    "\n",
    "def scale_single_dataframe(dataframe):\n",
    "    total_dark_patterns = 0\n",
    "    total_scaled_dark_patterns = 0\n",
    "    columns = dataframe.columns\n",
    "    for c in columns:\n",
    "        darkpattern = str(c)\n",
    "        count = int(dataframe[c])\n",
    "        #print(darkpattern)\n",
    "        #print(count)\n",
    "        total_dark_patterns += count\n",
    "        #print(scale(darkpattern, count))\n",
    "        total_scaled_dark_patterns += scale(darkpattern, count)\n",
    "        #print(total_scaled_dark_patterns)\n",
    "        if total_dark_patterns == 0:\n",
    "            return 0\n",
    "    return total_scaled_dark_patterns / total_dark_patterns\n",
    "\n",
    "#path = \"/Users/christopherbarnes/cmsc25910/Final/Number_DP/\" + 'google.com' + \"_count.txt\"\n",
    "#df = pd.read_csv(path)\n",
    "\n",
    "#print(scale_single_dataframe(df))\n"
   ]
  },
  {
   "cell_type": "code",
   "execution_count": 17,
   "id": "f675848c",
   "metadata": {},
   "outputs": [],
   "source": [
    "def all_dataframes_total():\n",
    "    total = 0\n",
    "    scaled_total = 0\n",
    "    string_to_save = ''\n",
    "    f = open(\"/Users/christopherbarnes/cmsc25910/Final/urls.txt\", \"r\")\n",
    "    #print(f)\n",
    "    string = str(f.read())\n",
    "    split = string.split('\\n')\n",
    "    for url in split:\n",
    "        if url == '':\n",
    "            pass\n",
    "        else:\n",
    "            path = \"/Users/christopherbarnes/cmsc25910/Final/Number_DP/\" + url + \"_count.txt\"\n",
    "            df1 = pd.read_csv(path)\n",
    "            #add single scaled dataframe value to scaled_total\n",
    "            single = float(scale_single_dataframe(df1))\n",
    "            scaled_total += single\n",
    "            add = str(single)\n",
    "            #total keeping count of the number of data frames we have considered\n",
    "            total += 1\n",
    "            #updating the string to save to a text file with the contents of each dataframe's individual average\n",
    "            #dark pattern value\n",
    "            '''\n",
    "            add = str(single).replace('dtype: float64', '')\n",
    "            add = add.replace('NaN', ' 0')\n",
    "            add = add[5:len(add)]\n",
    "            '''\n",
    "            \n",
    "            #print(add)\n",
    "            string_to_save += url + '\\n' + add + '\\n'\n",
    "            #columns = df1.columns\n",
    "            #print(df1.to_string()) \n",
    "    #print(scaled_total)\n",
    "    '''\n",
    "    add = str(scaled_total).replace('dtype: float64', '')\n",
    "    add = add.replace('NaN', ' 0')\n",
    "    add = add[5:len(add)]\n",
    "    '''\n",
    "    add = str(scaled_total)\n",
    "    string_to_save += 'total scaled' + '\\n' + add\n",
    "    #print(string_to_save)\n",
    "    with open('/Users/christopherbarnes/cmsc25910/Final/scaled.txt', 'w') as fp:\n",
    "        fp.write(string_to_save)\n",
    "            \n",
    "all_dataframes_total()"
   ]
  },
  {
   "cell_type": "code",
   "execution_count": 31,
   "id": "91fb8679",
   "metadata": {},
   "outputs": [
    {
     "data": {
      "text/plain": [
       "[4.936571190497186,\n",
       " 4.167235420549574,\n",
       " 5.895235685080345,\n",
       " 0.0,\n",
       " 3.8825192534513393,\n",
       " 2.350748185951041,\n",
       " 5.1481385272327795,\n",
       " 6.681073791650327,\n",
       " 5.097546338013399,\n",
       " 5.602152851430662,\n",
       " 4.095726647060853,\n",
       " 5.205705144741013,\n",
       " 4.057455773011386,\n",
       " 4.072894404456314,\n",
       " 6.028531638164767,\n",
       " 0.0,\n",
       " 4.418222759566255,\n",
       " 4.204222717181669,\n",
       " 5.289183418389842,\n",
       " 3.471026618318334,\n",
       " 5.5510241816764685,\n",
       " 6.0289293510317785,\n",
       " 3.815856102544653,\n",
       " 0.0,\n",
       " 0.0]"
      ]
     },
     "execution_count": 31,
     "metadata": {},
     "output_type": "execute_result"
    }
   ],
   "source": [
    "#read in scaled.txt\n",
    "#each proportion represents a certain percent that each scaled value is for a given website\n",
    "def scaled_proportion():\n",
    "    f = open(\"/Users/christopherbarnes/cmsc25910/Final/scaled.txt\", \"r\")\n",
    "    #print(f)\n",
    "    string = str(f.read())\n",
    "    split = string.split('\\n')\n",
    "    #print(split)\n",
    "    total = float(split.pop())\n",
    "    split.pop()\n",
    "    #print(split)\n",
    "    #print(total)\n",
    "    i = 0\n",
    "    ans = ''\n",
    "    vals = []\n",
    "    while i < len(split):\n",
    "        url = split[i]\n",
    "        count = float(split[i+1])\n",
    "        proportion = (count/total) * 100\n",
    "        #print(proportion)\n",
    "        ans += url + '\\n' + str(proportion) + '\\n'\n",
    "        vals.append(proportion)\n",
    "        i+=2\n",
    "    \n",
    "    #print(ans)\n",
    "    #print(vals)\n",
    "    \n",
    "    with open('/Users/christopherbarnes/cmsc25910/Final/final_scores.txt', 'w') as fp:\n",
    "        fp.write(ans)\n",
    "    #vals is the percent that each page receives out of 100\n",
    "    return vals\n",
    "    \n",
    "    \n",
    "scaled_proportion()"
   ]
  },
  {
   "cell_type": "code",
   "execution_count": 34,
   "id": "b108f019",
   "metadata": {},
   "outputs": [
    {
     "name": "stdout",
     "output_type": "stream",
     "text": [
      "min:\n",
      "0.0\n",
      "\n",
      "max:\n",
      "6.681073791650327\n",
      "\n",
      "mean:\n",
      "3.9999999999999987\n",
      "\n"
     ]
    }
   ],
   "source": [
    "percents = scaled_proportion()\n",
    "def stats(vals):\n",
    "    minimum = min(vals)\n",
    "    maximum = max(vals)\n",
    "    \n",
    "    length = len(vals)\n",
    "    summation = sum(vals)\n",
    "    mean = summation / length\n",
    "    \n",
    "\n",
    "    vals.sort()\n",
    "    if length % 2 == 0:\n",
    "        median1 = vals[length//2]\n",
    "        median2 = vals[length//2 - 1]\n",
    "        median = (median1 + median2)/2\n",
    "    else:\n",
    "        median = vals[length//2]\n",
    "    \n",
    "    print('min:')\n",
    "    print(minimum)\n",
    "    print()\n",
    "    print('max:')\n",
    "    print(maximum)\n",
    "    print()\n",
    "    print('mean:')\n",
    "    print(mean)\n",
    "    print()\n",
    "stats(percents)"
   ]
  },
  {
   "cell_type": "code",
   "execution_count": 36,
   "id": "e085c0eb",
   "metadata": {},
   "outputs": [
    {
     "data": {
      "image/png": "[encoded data removed]",
      "text/plain": [
       "<Figure size 432x288 with 1 Axes>"
      ]
     },
     "metadata": {
      "needs_background": "light"
     },
     "output_type": "display_data"
    }
   ],
   "source": [
    "from matplotlib import pyplot as plt\n",
    "\n",
    "plt.hist(percents, 10)\n",
    "\n",
    "plt.show()"
   ]
  },
  {
   "cell_type": "code",
   "execution_count": null,
   "id": "01789543",
   "metadata": {},
   "outputs": [],
   "source": []
  }
 ],
 "metadata": {
  "kernelspec": {
   "display_name": "Python 3 (ipykernel)",
   "language": "python",
   "name": "python3"
  },
  "language_info": {
   "codemirror_mode": {
    "name": "ipython",
    "version": 3
   },
   "file_extension": ".py",
   "mimetype": "text/x-python",
   "name": "python",
   "nbconvert_exporter": "python",
   "pygments_lexer": "ipython3",
   "version": "3.8.6"
  }
 },
 "nbformat": 4,
 "nbformat_minor": 5
}
